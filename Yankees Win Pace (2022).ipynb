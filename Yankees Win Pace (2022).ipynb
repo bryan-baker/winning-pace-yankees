{
 "cells": [
  {
   "cell_type": "markdown",
   "id": "8336b954",
   "metadata": {},
   "source": [
    "# Yankees Win Pace 2022\n",
    "Goals\n",
    "- Import schedule and record data using pybaseball package\n",
    "- Scrape 2022 Yankees record "
   ]
  },
  {
   "cell_type": "code",
   "execution_count": null,
   "id": "350d8809",
   "metadata": {},
   "outputs": [
    {
     "name": "stderr",
     "output_type": "stream",
     "text": [
      "/Users/bryanbaker/.pyenv/versions/3.10.3/lib/python3.10/site-packages/requests/__init__.py:109: RequestsDependencyWarning: urllib3 (1.26.9) or chardet (5.0.0)/charset_normalizer (2.0.12) doesn't match a supported version!\n",
      "  warnings.warn(\n"
     ]
    }
   ],
   "source": [
    "from pybaseball import schedule_and_record\n",
    "import numpy as np\n",
    "import pandas as pd\n",
    "import matplotlib.pyplot as plt\n",
    "from pathlib import Path  \n",
    "import re\n",
    "import time\n",
    "\n",
    "from selenium import webdriver\n",
    "from selenium.webdriver.common.by import By\n",
    "from selenium.webdriver.support.ui import WebDriverWait\n",
    "from selenium.webdriver.support import expected_conditions as EC\n",
    "from selenium.webdriver.support.ui import Select\n",
    "\n",
    "from webdriver_manager.chrome import ChromeDriverManager"
   ]
  },
  {
   "cell_type": "code",
   "execution_count": null,
   "id": "a735ee8c",
   "metadata": {},
   "outputs": [],
   "source": [
    "yankees1 = schedule_and_record(1927, 'NYY')\n",
    "yankees2 = schedule_and_record(1961, 'NYY')\n",
    "yankees3 = schedule_and_record(1998, 'NYY')\n",
    "mariners = schedule_and_record(2001, 'SEA')"
   ]
  },
  {
   "cell_type": "code",
   "execution_count": null,
   "id": "79f2deca",
   "metadata": {},
   "outputs": [],
   "source": [
    "mariners"
   ]
  },
  {
   "cell_type": "code",
   "execution_count": null,
   "id": "d9600485",
   "metadata": {},
   "outputs": [],
   "source": [
    "driver = webdriver.Chrome(ChromeDriverManager().install())\n",
    "driver.get('https://www.baseball-reference.com/teams/NYY/2022-schedule-scores.shtml')\n",
    "time.sleep(1)\n",
    "yankees4 = pd.read_html(driver.find_element(By.XPATH, '/html/body/div[2]/div[5]/div[5]/div[2]/table').get_attribute('outerHTML'))\n",
    "yankees4 = yankees4[0]\n",
    "yankees4"
   ]
  },
  {
   "cell_type": "code",
   "execution_count": null,
   "id": "44acc999",
   "metadata": {},
   "outputs": [],
   "source": [
    "pd.set_option('display.max_columns', None)\n",
    "yankees4 = yankees4.dropna(subset=['cLI'])"
   ]
  },
  {
   "cell_type": "code",
   "execution_count": null,
   "id": "8179ce95",
   "metadata": {},
   "outputs": [],
   "source": [
    "yankees4 = yankees4[yankees4['Gm#'].str.contains('Gm#')==False]"
   ]
  },
  {
   "cell_type": "code",
   "execution_count": null,
   "id": "a38cf199",
   "metadata": {},
   "outputs": [],
   "source": [
    "yankees4['W/L'] = yankees4['W/L'].str.replace('W-wo', 'W')\n",
    "yankees4['W/L'] = yankees4['W/L'].str.replace('L-wo', 'L')\n",
    "yankees3['W/L'] = yankees3['W/L'].str.replace('W-wo', 'W')\n",
    "yankees3['W/L'] = yankees3['W/L'].str.replace('L-wo', 'L')\n",
    "yankees2['W/L'] = yankees2['W/L'].str.replace('W-wo', 'W')\n",
    "yankees2['W/L'] = yankees2['W/L'].str.replace('L-wo', 'L')\n",
    "yankees1['W/L'] = yankees1['W/L'].str.replace('W-wo', 'W')\n",
    "yankees1['W/L'] = yankees1['W/L'].str.replace('L-wo', 'L')\n",
    "yankees1['W/L'] = yankees1['W/L'].str.replace('W &H', 'W')\n",
    "yankees2['W/L'] = yankees2['W/L'].str.replace('W &H', 'W')\n",
    "mariners['W/L'] = mariners['W/L'].str.replace('W-wo', 'W')\n",
    "mariners['W/L'] = mariners['W/L'].str.replace('L-wo', 'L')"
   ]
  },
  {
   "cell_type": "code",
   "execution_count": null,
   "id": "12ff984a",
   "metadata": {},
   "outputs": [],
   "source": [
    "yankees1['win-count'] = np.where(yankees1['W/L']=='W', 1, 0).cumsum()\n",
    "yankees2['win-count'] = np.where(yankees2['W/L']=='W', 1, 0).cumsum()\n",
    "yankees3['win-count'] = np.where(yankees3['W/L']=='W', 1, 0).cumsum()\n",
    "yankees4['win-count'] = np.where(yankees4['W/L']=='W', 1, 0).cumsum()\n",
    "mariners['win-count'] = np.where(mariners['W/L']=='W', 1, 0).cumsum()"
   ]
  },
  {
   "cell_type": "code",
   "execution_count": null,
   "id": "4e681a6b",
   "metadata": {},
   "outputs": [],
   "source": [
    "plt.plot(yankees1['win-count'], 'g', label=\" 1927\")\n",
    "plt.plot(yankees2['win-count'], 'b', label=\" 1961\")\n",
    "plt.plot(yankees3['win-count'], 'tab:orange', label=\" 1998\")\n",
    "plt.plot(yankees4['win-count'], 'r', label=\" 2022\")\n",
    "plt.legend(loc=4)\n",
    "plt.xlabel('Games')\n",
    "plt.ylabel('Win Count')\n",
    "plt.title('Winning Pace');\n",
    "plt.savefig('charts/win-count.svg')"
   ]
  },
  {
   "cell_type": "code",
   "execution_count": null,
   "id": "579de810",
   "metadata": {},
   "outputs": [],
   "source": [
    "yankees4.R = yankees4.R.astype(float)\n",
    "yankees4.RA = yankees4.RA.astype(float)"
   ]
  },
  {
   "cell_type": "code",
   "execution_count": null,
   "id": "c09db256",
   "metadata": {},
   "outputs": [],
   "source": [
    "yankees1['scorediff'] = (yankees1['R'] - yankees1['RA']).cumsum()\n",
    "yankees2['scorediff'] = (yankees2['R'] - yankees2['RA']).cumsum()\n",
    "yankees3['scorediff'] = (yankees3['R'] - yankees3['RA']).cumsum()\n",
    "yankees4['scorediff'] = (yankees4['R'] - yankees4['RA']).cumsum()\n"
   ]
  },
  {
   "cell_type": "code",
   "execution_count": null,
   "id": "39d6633d",
   "metadata": {},
   "outputs": [],
   "source": [
    "plt.plot(yankees1['scorediff'], 'g', label=\" 1927\")\n",
    "plt.plot(yankees2['scorediff'], 'b', label=\" 1961\")\n",
    "plt.plot(yankees3['scorediff'], 'tab:orange', label=\" 1998\")\n",
    "plt.plot(yankees4['scorediff'], 'r', label=\" 2022\")\n",
    "plt.legend(loc=4)\n",
    "plt.xlabel('Games')\n",
    "plt.ylabel('Runs Scored - Runs Against')\n",
    "plt.title('Cumulative Run Differential');\n",
    "plt.savefig('charts/run-differential.svg')"
   ]
  },
  {
   "cell_type": "code",
   "execution_count": null,
   "id": "e8c470ac",
   "metadata": {},
   "outputs": [],
   "source": [
    "yankees1"
   ]
  },
  {
   "cell_type": "code",
   "execution_count": null,
   "id": "b5c02a31",
   "metadata": {},
   "outputs": [],
   "source": [
    "yankees1.to_csv('data/yankees_1927.csv')\n",
    "yankees2.to_csv('data/yankees_1961.csv')\n",
    "yankees3.to_csv('data/yankees_1998.csv')\n",
    "yankees4.to_csv('data/yankees_2022.csv')\n",
    "mariners.to_csv('data/mariners_2001.csv')"
   ]
  },
  {
   "cell_type": "code",
   "execution_count": null,
   "id": "157956d9",
   "metadata": {},
   "outputs": [],
   "source": [
    "pd.set_option('display.max_rows', None)\n",
    "yankees4"
   ]
  },
  {
   "cell_type": "code",
   "execution_count": null,
   "id": "ec97f266",
   "metadata": {},
   "outputs": [],
   "source": [
    "# Scrape for Judge\n",
    "driver = webdriver.Chrome(ChromeDriverManager().install())\n",
    "driver.get('https://www.baseball-reference.com/players/gl.fcgi?id=judgeaa01&t=b&year=2022')\n",
    "time.sleep(1)\n",
    "judge = pd.read_html(driver.find_element(By.XPATH, '/html/body/div[2]/div[5]/div[4]/div[3]/table').get_attribute('outerHTML'))\n",
    "judge = judge[0]\n",
    "judge"
   ]
  },
  {
   "cell_type": "code",
   "execution_count": null,
   "id": "78f9aded",
   "metadata": {},
   "outputs": [],
   "source": [
    "# Drop unnecessary columns\n",
    "judge = judge.drop(columns=['Rk', 'Gcar', 'Unnamed: 5', 'RE24', 'DFS(DK)', 'DFS(FD)' ])"
   ]
  },
  {
   "cell_type": "code",
   "execution_count": null,
   "id": "8c263a44",
   "metadata": {},
   "outputs": [],
   "source": [
    "# Check data\n",
    "pd.set_option('display.max_columns', None)\n",
    "pd.set_option('display.max_rows', None)\n",
    "judge"
   ]
  },
  {
   "cell_type": "code",
   "execution_count": null,
   "id": "006701f6",
   "metadata": {},
   "outputs": [],
   "source": [
    "# More cleaning + adding HR count column\n",
    "judge = judge[judge['Rslt'].str.contains('Rslt')==False]\n",
    "judge = judge[judge['Gtm'].notna()]\n",
    "judge.HR = judge.HR.astype(int)\n",
    "judge['HR_count'] = judge['HR'].cumsum()\n",
    "judge"
   ]
  },
  {
   "cell_type": "code",
   "execution_count": null,
   "id": "1bfbbf50",
   "metadata": {},
   "outputs": [],
   "source": [
    "# Scrape for Maris\n",
    "driver = webdriver.Chrome(ChromeDriverManager().install())\n",
    "driver.get('https://www.baseball-reference.com/players/gl.fcgi?id=marisro01&t=b&year=1961')\n",
    "time.sleep(1)\n",
    "maris = pd.read_html(driver.find_element(By.ID, 'batting_gamelogs').get_attribute('outerHTML'))\n",
    "maris = maris[0]\n",
    "maris"
   ]
  },
  {
   "cell_type": "code",
   "execution_count": null,
   "id": "aabcd24f",
   "metadata": {},
   "outputs": [],
   "source": [
    "# Clean and add HR Count \n",
    "maris = maris.drop(columns=['Rk', 'Gcar', 'Unnamed: 5', 'RE24'])\n",
    "maris = maris[maris['Rslt'].str.contains('Rslt')==False]\n",
    "maris.HR = maris.HR.astype(int)\n",
    "maris.WPA = maris.WPA.astype(float)\n",
    "maris['HR_count'] = maris['HR'].cumsum()\n",
    "maris = maris[maris['Gtm'].notna()]\n",
    "maris"
   ]
  },
  {
   "cell_type": "code",
   "execution_count": null,
   "id": "d897f4d9",
   "metadata": {},
   "outputs": [],
   "source": [
    "# Scrape for Ruth\n",
    "driver = webdriver.Chrome(ChromeDriverManager().install())\n",
    "driver.get('https://www.baseball-reference.com/players/gl.fcgi?id=ruthba01&t=b&year=1927')\n",
    "time.sleep(1)\n",
    "ruth = pd.read_html(driver.find_element(By.ID, 'batting_gamelogs').get_attribute('outerHTML'))\n",
    "ruth = ruth[0]\n",
    "ruth"
   ]
  },
  {
   "cell_type": "code",
   "execution_count": null,
   "id": "700ceff9",
   "metadata": {},
   "outputs": [],
   "source": [
    "# Clean and add HR count column\n",
    "ruth = ruth.drop(columns=['Rk', 'Gcar', 'Unnamed: 5', 'RE24'])\n",
    "ruth = ruth[ruth['Rslt'].str.contains('Rslt')==False]\n",
    "ruth.HR = ruth.HR.astype(int)\n",
    "ruth['HR_count'] = ruth['HR'].cumsum()\n",
    "ruth = ruth[ruth['Gtm'].notna()]\n",
    "ruth"
   ]
  },
  {
   "cell_type": "code",
   "execution_count": null,
   "id": "08a547f1",
   "metadata": {},
   "outputs": [],
   "source": [
    "# Scrape for Bonds\n",
    "driver = webdriver.Chrome(ChromeDriverManager().install())\n",
    "driver.get('https://www.baseball-reference.com/players/gl.fcgi?id=bondsba01&t=b&year=2001')\n",
    "time.sleep(1)\n",
    "bonds = pd.read_html(driver.find_element(By.ID, 'batting_gamelogs').get_attribute('outerHTML'))\n",
    "bonds = bonds[0]\n",
    "bonds"
   ]
  },
  {
   "cell_type": "code",
   "execution_count": null,
   "id": "b249281f",
   "metadata": {},
   "outputs": [],
   "source": [
    "# Clean and add HR count column\n",
    "bonds = bonds.drop(columns=['Rk', 'Gcar', 'Unnamed: 5', 'RE24'])\n",
    "bonds = bonds[bonds['Rslt'].str.contains('Rslt')==False]\n",
    "bonds = bonds[bonds['Gtm'].notna()]\n",
    "bonds.HR = bonds.HR.astype(int)\n",
    "bonds['HR_count'] = bonds['HR'].cumsum()\n",
    "bonds"
   ]
  },
  {
   "cell_type": "code",
   "execution_count": null,
   "id": "ad21527f",
   "metadata": {},
   "outputs": [],
   "source": [
    "# Add WPA Count column\n",
    "bonds['WPA_count'] = bonds['WPA'].cumsum()\n",
    "maris['WPA_count'] = maris['WPA'].cumsum()\n",
    "judge['WPA_count'] = judge['WPA'].cumsum()"
   ]
  },
  {
   "cell_type": "code",
   "execution_count": null,
   "id": "78cd9b6f",
   "metadata": {},
   "outputs": [],
   "source": [
    "# Change aLI to float\n",
    "bonds.aLI = bonds.aLI.astype(float)\n",
    "maris.aLI = maris.aLI.astype(float)\n",
    "judge.aLI = judge.aLI.astype(float)"
   ]
  },
  {
   "cell_type": "code",
   "execution_count": null,
   "id": "502e6ee6",
   "metadata": {},
   "outputs": [],
   "source": [
    "# Save data to CSV files\n",
    "bonds.to_csv('data/bonds.csv')\n",
    "maris.to_csv('data/maris.csv')\n",
    "judge.to_csv('data/judge.csv')\n",
    "ruth.to_csv('data/ruth.csv')"
   ]
  },
  {
   "cell_type": "code",
   "execution_count": null,
   "id": "809a5948",
   "metadata": {},
   "outputs": [],
   "source": [
    "plt.plot(ruth['HR_count'], 'g', label=\"Babe Ruth (1927)\")\n",
    "plt.plot(maris['HR_count'], 'b', label=\"Roger Maris (1961)\")\n",
    "plt.plot(bonds['HR_count'], 'tab:orange', label=\"Barry Bonds (2001)\")\n",
    "plt.plot(judge['HR_count'], 'r', label=\"Aaron Judge (2022)\")\n",
    "plt.legend(loc=4)\n",
    "plt.xlabel('Games')\n",
    "plt.ylabel('Home Runs')\n",
    "plt.title('Home Run Pace')\n",
    "plt.savefig('charts/hr-pace.svg')"
   ]
  },
  {
   "cell_type": "code",
   "execution_count": null,
   "id": "e49f7c4b",
   "metadata": {},
   "outputs": [],
   "source": []
  }
 ],
 "metadata": {
  "kernelspec": {
   "display_name": "Python 3 (ipykernel)",
   "language": "python",
   "name": "python3"
  },
  "language_info": {
   "codemirror_mode": {
    "name": "ipython",
    "version": 3
   },
   "file_extension": ".py",
   "mimetype": "text/x-python",
   "name": "python",
   "nbconvert_exporter": "python",
   "pygments_lexer": "ipython3",
   "version": "3.10.3"
  }
 },
 "nbformat": 4,
 "nbformat_minor": 5
}
